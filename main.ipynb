{
 "cells": [
  {
   "cell_type": "markdown",
   "metadata": {},
   "source": [
    "## Head"
   ]
  },
  {
   "cell_type": "code",
   "execution_count": 1,
   "metadata": {
    "ExecuteTime": {
     "end_time": "2023-01-16T11:18:31.731535Z",
     "start_time": "2023-01-16T11:18:31.727528Z"
    }
   },
   "outputs": [],
   "source": [
    "import os\n",
    "import sys\n",
    "import pandas as pd\n",
    "import dask.dataframe as dd\n",
    "import sidetable\n",
    "import numpy as np\n",
    "import matplotlib.pyplot as plt\n",
    "import importlib\n",
    "from typing import List, Dict, Union\n",
    "import lightgbm as lgb"
   ]
  },
  {
   "cell_type": "code",
   "execution_count": 2,
   "metadata": {
    "ExecuteTime": {
     "end_time": "2023-01-16T11:18:34.139612Z",
     "start_time": "2023-01-16T11:18:34.136601Z"
    }
   },
   "outputs": [],
   "source": [
    "import causalml\n",
    "import causalml.metrics as cmetrics\n",
    "import causalml.inference.tree as ctree\n",
    "import causalml.inference.meta.rlearner as rlearner"
   ]
  },
  {
   "cell_type": "markdown",
   "metadata": {},
   "source": [
    "- The price of 1 g of the product is equal to 80 coins. The cost of production is equal to 52 coins\n",
    "- Sending one message costs 1 coin\n",
    "- A customer does not buy more than once a day"
   ]
  },
  {
   "cell_type": "markdown",
   "metadata": {},
   "source": [
    "## Lib"
   ]
  },
  {
   "cell_type": "code",
   "execution_count": 8,
   "metadata": {
    "ExecuteTime": {
     "end_time": "2022-07-18T18:31:42.930636Z",
     "start_time": "2022-07-18T18:31:42.925644Z"
    }
   },
   "outputs": [],
   "source": [
    "import sys\n",
    "sys.path.append('../')\n",
    "import featurelib as fl"
   ]
  },
  {
   "cell_type": "code",
   "execution_count": 9,
   "metadata": {
    "ExecuteTime": {
     "end_time": "2022-07-18T18:31:42.937636Z",
     "start_time": "2022-07-18T18:31:42.932635Z"
    }
   },
   "outputs": [],
   "source": [
    "def dask_groupby(\n",
    "    data: dd.DataFrame,\n",
    "    by: List[str],\n",
    "    config: Dict[str, Union[str, List[str]]]\n",
    ") -> dd.DataFrame:\n",
    "    data_ = data.copy()\n",
    "    dask_agg_config = dict()\n",
    "\n",
    "    for col, aggs in config.items():\n",
    "        aggs = aggs if isinstance(aggs, list) else [aggs]\n",
    "        for agg in aggs:\n",
    "            fictious_col = f'{col}_{agg}'\n",
    "            data_ = data_.assign(**{fictious_col: lambda d: d[col]})\n",
    "            dask_agg_config[fictious_col] = agg\n",
    "\n",
    "    result = data_.groupby(by=by).agg(dask_agg_config)\n",
    "    return result\n"
   ]
  },
  {
   "cell_type": "code",
   "execution_count": 10,
   "metadata": {
    "ExecuteTime": {
     "end_time": "2022-07-18T18:31:42.944637Z",
     "start_time": "2022-07-18T18:31:42.938634Z"
    }
   },
   "outputs": [],
   "source": [
    "class ReceiptsBasicFeatureCalcer(fl.DateFeatureCalcer):\n",
    "    name = 'receipts_basic'\n",
    "    keys = ['customer_id']\n",
    "\n",
    "    def __init__(self, delta: int, **kwargs):\n",
    "        self.delta = delta\n",
    "        super().__init__(**kwargs)\n",
    "\n",
    "    def compute(self) -> dd.DataFrame:\n",
    "        receipts = self.engine.get_table('receipts')\n",
    "        \n",
    "        date_from = self.date_to - self.delta\n",
    "        date_mask = (receipts['date'] >= date_from) & (receipts['date'] < self.date_to)\n",
    "\n",
    "        features = receipts.loc[date_mask]\n",
    "        features = dask_groupby(\n",
    "            features,\n",
    "            by=['customer_id'],\n",
    "            config={\n",
    "                \"purchase_sum\": [\"sum\", \"max\", \"min\", \"mean\"],\n",
    "                \"discount\": [\"sum\"],\n",
    "                \"date\": [\"min\", \"max\", \"count\"],\n",
    "            }\n",
    "        )\n",
    "        features = (\n",
    "            features\n",
    "            .assign(\n",
    "                mean_time_interval=lambda d: (\n",
    "                    (d['date_max'] - d['date_min']) / (d['date_count'] - 1)\n",
    "                )\n",
    "            )\n",
    "            .assign(time_since_last=lambda d: self.date_to - d['date_max'])\n",
    "        )\n",
    "\n",
    "        features = features.reset_index()\n",
    "        features = features.rename(columns={\n",
    "            col: col + f'__{self.delta}d' for col in features.columns if col not in self.keys\n",
    "        })\n",
    "\n",
    "        return features"
   ]
  },
  {
   "cell_type": "code",
   "execution_count": 11,
   "metadata": {
    "ExecuteTime": {
     "end_time": "2022-07-18T18:31:42.952637Z",
     "start_time": "2022-07-18T18:31:42.946636Z"
    }
   },
   "outputs": [],
   "source": [
    "class AgeGeoCalcer(fl.FeatureCalcer):\n",
    "    name = 'age_geo'\n",
    "    keys = ['customer_id']\n",
    "\n",
    "    def compute(self) -> dd.DataFrame:\n",
    "        customers_info = self.engine.get_table('customers')\n",
    "        return customers_info[self.keys + ['age', 'location']]"
   ]
  },
  {
   "cell_type": "code",
   "execution_count": 12,
   "metadata": {
    "ExecuteTime": {
     "end_time": "2022-07-18T18:31:42.958645Z",
     "start_time": "2022-07-18T18:31:42.954643Z"
    }
   },
   "outputs": [],
   "source": [
    "class CampaignInfoCalcer(fl.DateFeatureCalcer):\n",
    "    name = 'campaigns_info'\n",
    "    keys = ['customer_id']\n",
    "    \n",
    "    def compute(self) -> dd.DataFrame:\n",
    "        campaigns = self.engine.get_table('campaigns')\n",
    "        date_mask = campaigns['date'] == self.date_to\n",
    "\n",
    "        result = (\n",
    "            self.engine.get_table('campaigns')\n",
    "            .loc[date_mask]\n",
    "            [[\n",
    "                'customer_id',\n",
    "                'n_offer_days', 'target_group_flag', 'date'\n",
    "            ]]\n",
    "            .rename(columns={'date': 'campaign_date'})\n",
    "        )\n",
    "        return result\n"
   ]
  },
  {
   "cell_type": "code",
   "execution_count": 13,
   "metadata": {
    "ExecuteTime": {
     "end_time": "2022-07-18T18:31:42.963636Z",
     "start_time": "2022-07-18T18:31:42.960634Z"
    }
   },
   "outputs": [],
   "source": [
    "fl.register_calcer(ReceiptsBasicFeatureCalcer)\n",
    "fl.register_calcer(AgeGeoCalcer)\n",
    "fl.register_calcer(CampaignInfoCalcer)"
   ]
  },
  {
   "cell_type": "markdown",
   "metadata": {},
   "source": [
    "## Load'n'cook"
   ]
  },
  {
   "cell_type": "code",
   "execution_count": 3,
   "metadata": {
    "ExecuteTime": {
     "end_time": "2023-01-16T11:18:43.282991Z",
     "start_time": "2023-01-16T11:18:43.278980Z"
    }
   },
   "outputs": [],
   "source": [
    "engine = fl.Engine(tables={\n",
    "    'receipts': dd.read_parquet('data/receipts.parquet', engine='pyarrow'),\n",
    "    'customers': dd.read_csv('data/customers.csv'),\n",
    "    'campaigns': dd.read_csv('data/campaigns.csv'),\n",
    "})"
   ]
  },
  {
   "cell_type": "markdown",
   "metadata": {},
   "source": [
    "### train"
   ]
  },
  {
   "cell_type": "markdown",
   "metadata": {},
   "source": [
    "#### load"
   ]
  },
  {
   "cell_type": "code",
   "execution_count": 15,
   "metadata": {
    "ExecuteTime": {
     "end_time": "2022-07-18T18:31:43.080638Z",
     "start_time": "2022-07-18T18:31:43.075638Z"
    }
   },
   "outputs": [],
   "source": [
    "calcers_config = [\n",
    "    {\n",
    "        'name': 'receipts_basic',\n",
    "        'args': {\n",
    "            'date_to': 102, 'delta': 5\n",
    "        }\n",
    "    },\n",
    "    {\n",
    "        'name': 'receipts_basic',\n",
    "        'args': {\n",
    "            'date_to': 102, 'delta': 15\n",
    "        }\n",
    "    },\n",
    "    {\n",
    "        'name': 'receipts_basic',\n",
    "        'args': {\n",
    "            'date_to': 102, 'delta': 50\n",
    "        }\n",
    "    },\n",
    "    {\n",
    "        'name': 'receipts_basic',\n",
    "        'args': {\n",
    "            'date_to': 102, 'delta': 100\n",
    "        }\n",
    "    },\n",
    "    { # target period\n",
    "        'name': 'receipts_basic',\n",
    "        'args': {\n",
    "            'date_to': 132, 'delta': 30\n",
    "        }\n",
    "    },\n",
    "    { # offer period\n",
    "        'name': 'receipts_basic',\n",
    "        'args': {\n",
    "            'date_to': 109, 'delta': 7\n",
    "        }\n",
    "    },\n",
    "    {\n",
    "        'name': 'age_geo',\n",
    "        'args': {}\n",
    "    },\n",
    "    {\n",
    "        'name': 'campaigns_info',\n",
    "        'args': {'date_to': 102}\n",
    "    }\n",
    "]"
   ]
  },
  {
   "cell_type": "code",
   "execution_count": 16,
   "metadata": {
    "ExecuteTime": {
     "end_time": "2022-07-18T18:31:43.556029Z",
     "start_time": "2022-07-18T18:31:43.084635Z"
    }
   },
   "outputs": [],
   "source": [
    "raw_data_train = fl.compute_features(engine, features_config=calcers_config)"
   ]
  },
  {
   "cell_type": "code",
   "execution_count": 17,
   "metadata": {
    "ExecuteTime": {
     "end_time": "2022-07-18T18:32:48.504256Z",
     "start_time": "2022-07-18T18:31:44.396633Z"
    }
   },
   "outputs": [],
   "source": [
    "raw_data_train = raw_data_train.compute()"
   ]
  },
  {
   "cell_type": "code",
   "execution_count": 18,
   "metadata": {
    "ExecuteTime": {
     "end_time": "2022-07-18T18:32:50.119738Z",
     "start_time": "2022-07-18T18:32:50.112735Z"
    }
   },
   "outputs": [
    {
     "data": {
      "text/plain": [
       "(2000000, 66)"
      ]
     },
     "execution_count": 18,
     "metadata": {},
     "output_type": "execute_result"
    }
   ],
   "source": [
    "raw_data_train.shape"
   ]
  },
  {
   "cell_type": "markdown",
   "metadata": {},
   "source": [
    "#### transform"
   ]
  },
  {
   "cell_type": "code",
   "execution_count": 19,
   "metadata": {
    "ExecuteTime": {
     "end_time": "2022-07-18T18:32:50.935738Z",
     "start_time": "2022-07-18T18:32:50.922735Z"
    }
   },
   "outputs": [],
   "source": [
    "def fix_column_names(data: pd.DataFrame) -> pd.DataFrame:\n",
    "    for _days in [30, 7]:\n",
    "        for col_name in [\n",
    "            f'purchase_sum_sum__{_days}d',\n",
    "            f'purchase_sum_max__{_days}d',\n",
    "            f'purchase_sum_min__{_days}d',\n",
    "            f'purchase_sum_mean__{_days}d',\n",
    "            f'discount_sum__{_days}d',\n",
    "            f'date_min__{_days}d',\n",
    "            f'date_max__{_days}d',\n",
    "            f'date_count__{_days}d',\n",
    "            f'mean_time_interval__{_days}d',\n",
    "            f'time_since_last__{_days}d'\n",
    "        ]:\n",
    "            data = data.rename(columns={col_name: 'target__' + col_name})\n",
    "    return data"
   ]
  },
  {
   "cell_type": "code",
   "execution_count": 20,
   "metadata": {
    "ExecuteTime": {
     "end_time": "2022-07-18T18:32:51.741740Z",
     "start_time": "2022-07-18T18:32:51.737737Z"
    }
   },
   "outputs": [],
   "source": [
    "MARGIN_RATE = 0.35\n",
    "MESSAGE_COST = 1.0\n",
    "\n",
    "\n",
    "def _transform(data: pd.DataFrame) -> pd.DataFrame:\n",
    "    data.fillna({'target_group_flag': 0}, inplace=True)\n",
    "    data['target_profit'] = (\n",
    "        MARGIN_RATE * data['target__purchase_sum_sum__30d'].fillna(0.0)\n",
    "        - MESSAGE_COST * data['target_group_flag'].fillna(0)\n",
    "        - data['target__discount_sum__30d'].fillna(0)\n",
    "    )\n",
    "    return data"
   ]
  },
  {
   "cell_type": "code",
   "execution_count": 21,
   "metadata": {
    "ExecuteTime": {
     "end_time": "2022-07-18T18:33:04.434822Z",
     "start_time": "2022-07-18T18:32:52.558749Z"
    }
   },
   "outputs": [],
   "source": [
    "data_train = fix_column_names(raw_data_train)\n",
    "data_train = _transform(data_train)"
   ]
  },
  {
   "cell_type": "code",
   "execution_count": 22,
   "metadata": {
    "ExecuteTime": {
     "end_time": "2022-07-18T18:33:05.955809Z",
     "start_time": "2022-07-18T18:33:05.927774Z"
    }
   },
   "outputs": [
    {
     "data": {
      "text/html": [
       "<div>\n",
       "<style scoped>\n",
       "    .dataframe tbody tr th:only-of-type {\n",
       "        vertical-align: middle;\n",
       "    }\n",
       "\n",
       "    .dataframe tbody tr th {\n",
       "        vertical-align: top;\n",
       "    }\n",
       "\n",
       "    .dataframe thead th {\n",
       "        text-align: right;\n",
       "    }\n",
       "</style>\n",
       "<table border=\"1\" class=\"dataframe\">\n",
       "  <thead>\n",
       "    <tr style=\"text-align: right;\">\n",
       "      <th></th>\n",
       "      <th>customer_id</th>\n",
       "      <th>purchase_sum_sum__5d</th>\n",
       "      <th>purchase_sum_max__5d</th>\n",
       "      <th>purchase_sum_min__5d</th>\n",
       "      <th>purchase_sum_mean__5d</th>\n",
       "      <th>discount_sum__5d</th>\n",
       "      <th>date_min__5d</th>\n",
       "      <th>date_max__5d</th>\n",
       "      <th>date_count__5d</th>\n",
       "      <th>mean_time_interval__5d</th>\n",
       "      <th>...</th>\n",
       "      <th>target__date_max__7d</th>\n",
       "      <th>target__date_count__7d</th>\n",
       "      <th>target__mean_time_interval__7d</th>\n",
       "      <th>target__time_since_last__7d</th>\n",
       "      <th>age</th>\n",
       "      <th>location</th>\n",
       "      <th>n_offer_days</th>\n",
       "      <th>target_group_flag</th>\n",
       "      <th>campaign_date</th>\n",
       "      <th>target_profit</th>\n",
       "    </tr>\n",
       "  </thead>\n",
       "  <tbody>\n",
       "    <tr>\n",
       "      <th>0</th>\n",
       "      <td>2</td>\n",
       "      <td>3130.691978</td>\n",
       "      <td>2749.047367</td>\n",
       "      <td>381.644612</td>\n",
       "      <td>1565.345989</td>\n",
       "      <td>0.0</td>\n",
       "      <td>97.0</td>\n",
       "      <td>100.0</td>\n",
       "      <td>2.0</td>\n",
       "      <td>3.0</td>\n",
       "      <td>...</td>\n",
       "      <td>NaN</td>\n",
       "      <td>NaN</td>\n",
       "      <td>NaN</td>\n",
       "      <td>NaN</td>\n",
       "      <td>41</td>\n",
       "      <td>Hindarsfjall</td>\n",
       "      <td>7.0</td>\n",
       "      <td>1.0</td>\n",
       "      <td>102.0</td>\n",
       "      <td>1468.691792</td>\n",
       "    </tr>\n",
       "    <tr>\n",
       "      <th>1</th>\n",
       "      <td>6</td>\n",
       "      <td>958.400150</td>\n",
       "      <td>958.400150</td>\n",
       "      <td>958.400150</td>\n",
       "      <td>958.400150</td>\n",
       "      <td>0.0</td>\n",
       "      <td>101.0</td>\n",
       "      <td>101.0</td>\n",
       "      <td>1.0</td>\n",
       "      <td>NaN</td>\n",
       "      <td>...</td>\n",
       "      <td>NaN</td>\n",
       "      <td>NaN</td>\n",
       "      <td>NaN</td>\n",
       "      <td>NaN</td>\n",
       "      <td>57</td>\n",
       "      <td>Hindarsfjall</td>\n",
       "      <td>7.0</td>\n",
       "      <td>1.0</td>\n",
       "      <td>102.0</td>\n",
       "      <td>480.967047</td>\n",
       "    </tr>\n",
       "    <tr>\n",
       "      <th>2</th>\n",
       "      <td>7</td>\n",
       "      <td>777.908251</td>\n",
       "      <td>777.908251</td>\n",
       "      <td>777.908251</td>\n",
       "      <td>777.908251</td>\n",
       "      <td>0.0</td>\n",
       "      <td>99.0</td>\n",
       "      <td>99.0</td>\n",
       "      <td>1.0</td>\n",
       "      <td>NaN</td>\n",
       "      <td>...</td>\n",
       "      <td>103.0</td>\n",
       "      <td>1.0</td>\n",
       "      <td>NaN</td>\n",
       "      <td>6.0</td>\n",
       "      <td>22</td>\n",
       "      <td>Hindarsfjall</td>\n",
       "      <td>7.0</td>\n",
       "      <td>1.0</td>\n",
       "      <td>102.0</td>\n",
       "      <td>859.641173</td>\n",
       "    </tr>\n",
       "    <tr>\n",
       "      <th>3</th>\n",
       "      <td>11</td>\n",
       "      <td>1487.705672</td>\n",
       "      <td>1487.705672</td>\n",
       "      <td>1487.705672</td>\n",
       "      <td>1487.705672</td>\n",
       "      <td>0.0</td>\n",
       "      <td>100.0</td>\n",
       "      <td>100.0</td>\n",
       "      <td>1.0</td>\n",
       "      <td>NaN</td>\n",
       "      <td>...</td>\n",
       "      <td>NaN</td>\n",
       "      <td>NaN</td>\n",
       "      <td>NaN</td>\n",
       "      <td>NaN</td>\n",
       "      <td>57</td>\n",
       "      <td>Novigrad</td>\n",
       "      <td>7.0</td>\n",
       "      <td>1.0</td>\n",
       "      <td>102.0</td>\n",
       "      <td>753.619862</td>\n",
       "    </tr>\n",
       "    <tr>\n",
       "      <th>4</th>\n",
       "      <td>13</td>\n",
       "      <td>1079.160515</td>\n",
       "      <td>1079.160515</td>\n",
       "      <td>1079.160515</td>\n",
       "      <td>1079.160515</td>\n",
       "      <td>0.0</td>\n",
       "      <td>101.0</td>\n",
       "      <td>101.0</td>\n",
       "      <td>1.0</td>\n",
       "      <td>NaN</td>\n",
       "      <td>...</td>\n",
       "      <td>NaN</td>\n",
       "      <td>NaN</td>\n",
       "      <td>NaN</td>\n",
       "      <td>NaN</td>\n",
       "      <td>63</td>\n",
       "      <td>Kaer_Trolde</td>\n",
       "      <td>7.0</td>\n",
       "      <td>1.0</td>\n",
       "      <td>102.0</td>\n",
       "      <td>-1.000000</td>\n",
       "    </tr>\n",
       "  </tbody>\n",
       "</table>\n",
       "<p>5 rows × 67 columns</p>\n",
       "</div>"
      ],
      "text/plain": [
       "   customer_id  purchase_sum_sum__5d  purchase_sum_max__5d  \\\n",
       "0            2           3130.691978           2749.047367   \n",
       "1            6            958.400150            958.400150   \n",
       "2            7            777.908251            777.908251   \n",
       "3           11           1487.705672           1487.705672   \n",
       "4           13           1079.160515           1079.160515   \n",
       "\n",
       "   purchase_sum_min__5d  purchase_sum_mean__5d  discount_sum__5d  \\\n",
       "0            381.644612            1565.345989               0.0   \n",
       "1            958.400150             958.400150               0.0   \n",
       "2            777.908251             777.908251               0.0   \n",
       "3           1487.705672            1487.705672               0.0   \n",
       "4           1079.160515            1079.160515               0.0   \n",
       "\n",
       "   date_min__5d  date_max__5d  date_count__5d  mean_time_interval__5d  ...  \\\n",
       "0          97.0         100.0             2.0                     3.0  ...   \n",
       "1         101.0         101.0             1.0                     NaN  ...   \n",
       "2          99.0          99.0             1.0                     NaN  ...   \n",
       "3         100.0         100.0             1.0                     NaN  ...   \n",
       "4         101.0         101.0             1.0                     NaN  ...   \n",
       "\n",
       "   target__date_max__7d  target__date_count__7d  \\\n",
       "0                   NaN                     NaN   \n",
       "1                   NaN                     NaN   \n",
       "2                 103.0                     1.0   \n",
       "3                   NaN                     NaN   \n",
       "4                   NaN                     NaN   \n",
       "\n",
       "   target__mean_time_interval__7d  target__time_since_last__7d  age  \\\n",
       "0                             NaN                          NaN   41   \n",
       "1                             NaN                          NaN   57   \n",
       "2                             NaN                          6.0   22   \n",
       "3                             NaN                          NaN   57   \n",
       "4                             NaN                          NaN   63   \n",
       "\n",
       "       location  n_offer_days  target_group_flag  campaign_date  target_profit  \n",
       "0  Hindarsfjall           7.0                1.0          102.0    1468.691792  \n",
       "1  Hindarsfjall           7.0                1.0          102.0     480.967047  \n",
       "2  Hindarsfjall           7.0                1.0          102.0     859.641173  \n",
       "3      Novigrad           7.0                1.0          102.0     753.619862  \n",
       "4   Kaer_Trolde           7.0                1.0          102.0      -1.000000  \n",
       "\n",
       "[5 rows x 67 columns]"
      ]
     },
     "execution_count": 22,
     "metadata": {},
     "output_type": "execute_result"
    }
   ],
   "source": [
    "data_train.head()"
   ]
  },
  {
   "cell_type": "markdown",
   "metadata": {},
   "source": [
    "#### splits"
   ]
  },
  {
   "cell_type": "code",
   "execution_count": 23,
   "metadata": {
    "ExecuteTime": {
     "end_time": "2022-07-18T18:33:07.515777Z",
     "start_time": "2022-07-18T18:33:07.511776Z"
    }
   },
   "outputs": [],
   "source": [
    "from sklearn.model_selection import train_test_split"
   ]
  },
  {
   "cell_type": "code",
   "execution_count": 24,
   "metadata": {
    "ExecuteTime": {
     "end_time": "2022-07-18T18:33:09.206083Z",
     "start_time": "2022-07-18T18:33:09.099815Z"
    }
   },
   "outputs": [],
   "source": [
    "fit_index, val_index = train_test_split(data_train.index, test_size=0.5, random_state=165)"
   ]
  },
  {
   "cell_type": "markdown",
   "metadata": {},
   "source": [
    "### serve"
   ]
  },
  {
   "cell_type": "markdown",
   "metadata": {},
   "source": [
    "#### load"
   ]
  },
  {
   "cell_type": "code",
   "execution_count": 25,
   "metadata": {
    "ExecuteTime": {
     "end_time": "2022-07-18T18:33:10.687819Z",
     "start_time": "2022-07-18T18:33:10.683816Z"
    }
   },
   "outputs": [],
   "source": [
    "calcers_config = [\n",
    "    {\n",
    "        'name': 'receipts_basic',\n",
    "        'args': {\n",
    "            'date_to': 250, 'delta': 5\n",
    "        }\n",
    "    },\n",
    "    {\n",
    "        'name': 'receipts_basic',\n",
    "        'args': {\n",
    "            'date_to': 250, 'delta': 15\n",
    "        }\n",
    "    },\n",
    "    {\n",
    "        'name': 'receipts_basic',\n",
    "        'args': {\n",
    "            'date_to': 250, 'delta': 50\n",
    "        }\n",
    "    },\n",
    "    {\n",
    "        'name': 'receipts_basic',\n",
    "        'args': {\n",
    "            'date_to': 250, 'delta': 100\n",
    "        }\n",
    "    },\n",
    "#     { # target period\n",
    "#         'name': 'receipts_basic',\n",
    "#         'args': {\n",
    "#             'date_to': 132, 'delta': 30\n",
    "#         }\n",
    "#     },\n",
    "#     { # offer period\n",
    "#         'name': 'receipts_basic',\n",
    "#         'args': {\n",
    "#             'date_to': 109, 'delta': 7\n",
    "#         }\n",
    "#     },\n",
    "    {\n",
    "        'name': 'age_geo',\n",
    "        'args': {}\n",
    "    },\n",
    "#     {\n",
    "#         'name': 'campaigns_info',\n",
    "#         'args': {'date_to': 102}\n",
    "#     }\n",
    "]"
   ]
  },
  {
   "cell_type": "code",
   "execution_count": 26,
   "metadata": {
    "ExecuteTime": {
     "end_time": "2022-07-18T18:33:12.435912Z",
     "start_time": "2022-07-18T18:33:12.154813Z"
    }
   },
   "outputs": [],
   "source": [
    "raw_data_serve = fl.compute_features(engine, features_config=calcers_config)"
   ]
  },
  {
   "cell_type": "code",
   "execution_count": 27,
   "metadata": {
    "ExecuteTime": {
     "end_time": "2022-07-18T18:33:45.643954Z",
     "start_time": "2022-07-18T18:33:13.944813Z"
    }
   },
   "outputs": [],
   "source": [
    "raw_data_serve = raw_data_serve.compute()"
   ]
  },
  {
   "cell_type": "code",
   "execution_count": 28,
   "metadata": {
    "ExecuteTime": {
     "end_time": "2022-07-18T18:33:48.042955Z",
     "start_time": "2022-07-18T18:33:48.037953Z"
    }
   },
   "outputs": [
    {
     "data": {
      "text/plain": [
       "(2000000, 43)"
      ]
     },
     "execution_count": 28,
     "metadata": {},
     "output_type": "execute_result"
    }
   ],
   "source": [
    "raw_data_serve.shape"
   ]
  },
  {
   "cell_type": "markdown",
   "metadata": {},
   "source": [
    "#### transform"
   ]
  },
  {
   "cell_type": "code",
   "execution_count": 29,
   "metadata": {
    "ExecuteTime": {
     "end_time": "2022-07-18T18:33:59.657952Z",
     "start_time": "2022-07-18T18:33:50.448956Z"
    }
   },
   "outputs": [],
   "source": [
    "data_serve = fix_column_names(raw_data_serve)"
   ]
  },
  {
   "cell_type": "markdown",
   "metadata": {},
   "source": [
    "### column sets"
   ]
  },
  {
   "cell_type": "code",
   "execution_count": 30,
   "metadata": {
    "ExecuteTime": {
     "end_time": "2022-07-18T18:34:04.091954Z",
     "start_time": "2022-07-18T18:34:04.075953Z"
    }
   },
   "outputs": [],
   "source": [
    "cols_features_n1 = [\n",
    "    'date_count__100d',\n",
    "    'purchase_sum_sum__100d',\n",
    "    'purchase_sum_max__100d',\n",
    "    'purchase_sum_min__100d',\n",
    "    'purchase_sum_mean__100d',\n",
    "    'mean_time_interval__100d',\n",
    "    'time_since_last__100d',\n",
    "    'date_count__5d',\n",
    "    'purchase_sum_sum__5d',\n",
    "    'purchase_sum_max__5d',\n",
    "    'purchase_sum_min__5d',\n",
    "    'purchase_sum_mean__5d',\n",
    "    'mean_time_interval__5d',\n",
    "    'age'\n",
    "]"
   ]
  },
  {
   "cell_type": "code",
   "execution_count": 31,
   "metadata": {
    "ExecuteTime": {
     "end_time": "2022-07-18T18:34:08.303951Z",
     "start_time": "2022-07-18T18:34:07.477953Z"
    }
   },
   "outputs": [
    {
     "data": {
      "text/html": [
       "<div>\n",
       "<style scoped>\n",
       "    .dataframe tbody tr th:only-of-type {\n",
       "        vertical-align: middle;\n",
       "    }\n",
       "\n",
       "    .dataframe tbody tr th {\n",
       "        vertical-align: top;\n",
       "    }\n",
       "\n",
       "    .dataframe thead th {\n",
       "        text-align: right;\n",
       "    }\n",
       "</style>\n",
       "<table border=\"1\" class=\"dataframe\">\n",
       "  <thead>\n",
       "    <tr style=\"text-align: right;\">\n",
       "      <th></th>\n",
       "      <th>customer_id</th>\n",
       "      <th>purchase_sum_sum__5d</th>\n",
       "      <th>purchase_sum_max__5d</th>\n",
       "      <th>purchase_sum_min__5d</th>\n",
       "      <th>purchase_sum_mean__5d</th>\n",
       "      <th>discount_sum__5d</th>\n",
       "      <th>date_min__5d</th>\n",
       "      <th>date_max__5d</th>\n",
       "      <th>date_count__5d</th>\n",
       "      <th>mean_time_interval__5d</th>\n",
       "      <th>...</th>\n",
       "      <th>purchase_sum_min__100d</th>\n",
       "      <th>purchase_sum_mean__100d</th>\n",
       "      <th>discount_sum__100d</th>\n",
       "      <th>date_min__100d</th>\n",
       "      <th>date_max__100d</th>\n",
       "      <th>date_count__100d</th>\n",
       "      <th>mean_time_interval__100d</th>\n",
       "      <th>time_since_last__100d</th>\n",
       "      <th>age</th>\n",
       "      <th>location</th>\n",
       "    </tr>\n",
       "  </thead>\n",
       "  <tbody>\n",
       "    <tr>\n",
       "      <th>0</th>\n",
       "      <td>1</td>\n",
       "      <td>841.402345</td>\n",
       "      <td>841.402345</td>\n",
       "      <td>841.402345</td>\n",
       "      <td>841.402345</td>\n",
       "      <td>0.0</td>\n",
       "      <td>245.0</td>\n",
       "      <td>245.0</td>\n",
       "      <td>1.0</td>\n",
       "      <td>NaN</td>\n",
       "      <td>...</td>\n",
       "      <td>676.339522</td>\n",
       "      <td>942.989648</td>\n",
       "      <td>0.0</td>\n",
       "      <td>157.0</td>\n",
       "      <td>245.0</td>\n",
       "      <td>5.0</td>\n",
       "      <td>22.000000</td>\n",
       "      <td>5.0</td>\n",
       "      <td>53</td>\n",
       "      <td>Hindarsfjall</td>\n",
       "    </tr>\n",
       "    <tr>\n",
       "      <th>1</th>\n",
       "      <td>2</td>\n",
       "      <td>2745.248532</td>\n",
       "      <td>2745.248532</td>\n",
       "      <td>2745.248532</td>\n",
       "      <td>2745.248532</td>\n",
       "      <td>0.0</td>\n",
       "      <td>246.0</td>\n",
       "      <td>246.0</td>\n",
       "      <td>1.0</td>\n",
       "      <td>NaN</td>\n",
       "      <td>...</td>\n",
       "      <td>1940.561015</td>\n",
       "      <td>2706.896078</td>\n",
       "      <td>0.0</td>\n",
       "      <td>172.0</td>\n",
       "      <td>246.0</td>\n",
       "      <td>7.0</td>\n",
       "      <td>12.333333</td>\n",
       "      <td>4.0</td>\n",
       "      <td>41</td>\n",
       "      <td>Hindarsfjall</td>\n",
       "    </tr>\n",
       "    <tr>\n",
       "      <th>2</th>\n",
       "      <td>6</td>\n",
       "      <td>949.027995</td>\n",
       "      <td>949.027995</td>\n",
       "      <td>949.027995</td>\n",
       "      <td>949.027995</td>\n",
       "      <td>0.0</td>\n",
       "      <td>245.0</td>\n",
       "      <td>245.0</td>\n",
       "      <td>1.0</td>\n",
       "      <td>NaN</td>\n",
       "      <td>...</td>\n",
       "      <td>478.944819</td>\n",
       "      <td>919.874613</td>\n",
       "      <td>0.0</td>\n",
       "      <td>158.0</td>\n",
       "      <td>245.0</td>\n",
       "      <td>8.0</td>\n",
       "      <td>12.428571</td>\n",
       "      <td>5.0</td>\n",
       "      <td>57</td>\n",
       "      <td>Hindarsfjall</td>\n",
       "    </tr>\n",
       "    <tr>\n",
       "      <th>3</th>\n",
       "      <td>9</td>\n",
       "      <td>2181.297251</td>\n",
       "      <td>2181.297251</td>\n",
       "      <td>2181.297251</td>\n",
       "      <td>2181.297251</td>\n",
       "      <td>0.0</td>\n",
       "      <td>249.0</td>\n",
       "      <td>249.0</td>\n",
       "      <td>1.0</td>\n",
       "      <td>NaN</td>\n",
       "      <td>...</td>\n",
       "      <td>1697.679759</td>\n",
       "      <td>2023.712759</td>\n",
       "      <td>0.0</td>\n",
       "      <td>193.0</td>\n",
       "      <td>249.0</td>\n",
       "      <td>3.0</td>\n",
       "      <td>28.000000</td>\n",
       "      <td>1.0</td>\n",
       "      <td>29</td>\n",
       "      <td>Novigrad</td>\n",
       "    </tr>\n",
       "    <tr>\n",
       "      <th>4</th>\n",
       "      <td>22</td>\n",
       "      <td>1131.647748</td>\n",
       "      <td>1131.647748</td>\n",
       "      <td>1131.647748</td>\n",
       "      <td>1131.647748</td>\n",
       "      <td>0.0</td>\n",
       "      <td>248.0</td>\n",
       "      <td>248.0</td>\n",
       "      <td>1.0</td>\n",
       "      <td>NaN</td>\n",
       "      <td>...</td>\n",
       "      <td>236.225561</td>\n",
       "      <td>962.099677</td>\n",
       "      <td>0.0</td>\n",
       "      <td>150.0</td>\n",
       "      <td>248.0</td>\n",
       "      <td>13.0</td>\n",
       "      <td>8.166667</td>\n",
       "      <td>2.0</td>\n",
       "      <td>36</td>\n",
       "      <td>Hindarsfjall</td>\n",
       "    </tr>\n",
       "    <tr>\n",
       "      <th>...</th>\n",
       "      <td>...</td>\n",
       "      <td>...</td>\n",
       "      <td>...</td>\n",
       "      <td>...</td>\n",
       "      <td>...</td>\n",
       "      <td>...</td>\n",
       "      <td>...</td>\n",
       "      <td>...</td>\n",
       "      <td>...</td>\n",
       "      <td>...</td>\n",
       "      <td>...</td>\n",
       "      <td>...</td>\n",
       "      <td>...</td>\n",
       "      <td>...</td>\n",
       "      <td>...</td>\n",
       "      <td>...</td>\n",
       "      <td>...</td>\n",
       "      <td>...</td>\n",
       "      <td>...</td>\n",
       "      <td>...</td>\n",
       "      <td>...</td>\n",
       "    </tr>\n",
       "    <tr>\n",
       "      <th>1999995</th>\n",
       "      <td>1999882</td>\n",
       "      <td>NaN</td>\n",
       "      <td>NaN</td>\n",
       "      <td>NaN</td>\n",
       "      <td>NaN</td>\n",
       "      <td>NaN</td>\n",
       "      <td>NaN</td>\n",
       "      <td>NaN</td>\n",
       "      <td>NaN</td>\n",
       "      <td>NaN</td>\n",
       "      <td>...</td>\n",
       "      <td>NaN</td>\n",
       "      <td>NaN</td>\n",
       "      <td>NaN</td>\n",
       "      <td>NaN</td>\n",
       "      <td>NaN</td>\n",
       "      <td>NaN</td>\n",
       "      <td>NaN</td>\n",
       "      <td>NaN</td>\n",
       "      <td>58</td>\n",
       "      <td>Kaer_Trolde</td>\n",
       "    </tr>\n",
       "    <tr>\n",
       "      <th>1999996</th>\n",
       "      <td>1999893</td>\n",
       "      <td>NaN</td>\n",
       "      <td>NaN</td>\n",
       "      <td>NaN</td>\n",
       "      <td>NaN</td>\n",
       "      <td>NaN</td>\n",
       "      <td>NaN</td>\n",
       "      <td>NaN</td>\n",
       "      <td>NaN</td>\n",
       "      <td>NaN</td>\n",
       "      <td>...</td>\n",
       "      <td>NaN</td>\n",
       "      <td>NaN</td>\n",
       "      <td>NaN</td>\n",
       "      <td>NaN</td>\n",
       "      <td>NaN</td>\n",
       "      <td>NaN</td>\n",
       "      <td>NaN</td>\n",
       "      <td>NaN</td>\n",
       "      <td>69</td>\n",
       "      <td>Kaer_Trolde</td>\n",
       "    </tr>\n",
       "    <tr>\n",
       "      <th>1999997</th>\n",
       "      <td>1999904</td>\n",
       "      <td>NaN</td>\n",
       "      <td>NaN</td>\n",
       "      <td>NaN</td>\n",
       "      <td>NaN</td>\n",
       "      <td>NaN</td>\n",
       "      <td>NaN</td>\n",
       "      <td>NaN</td>\n",
       "      <td>NaN</td>\n",
       "      <td>NaN</td>\n",
       "      <td>...</td>\n",
       "      <td>NaN</td>\n",
       "      <td>NaN</td>\n",
       "      <td>NaN</td>\n",
       "      <td>NaN</td>\n",
       "      <td>NaN</td>\n",
       "      <td>NaN</td>\n",
       "      <td>NaN</td>\n",
       "      <td>NaN</td>\n",
       "      <td>42</td>\n",
       "      <td>Oxenfurt</td>\n",
       "    </tr>\n",
       "    <tr>\n",
       "      <th>1999998</th>\n",
       "      <td>1999948</td>\n",
       "      <td>NaN</td>\n",
       "      <td>NaN</td>\n",
       "      <td>NaN</td>\n",
       "      <td>NaN</td>\n",
       "      <td>NaN</td>\n",
       "      <td>NaN</td>\n",
       "      <td>NaN</td>\n",
       "      <td>NaN</td>\n",
       "      <td>NaN</td>\n",
       "      <td>...</td>\n",
       "      <td>NaN</td>\n",
       "      <td>NaN</td>\n",
       "      <td>NaN</td>\n",
       "      <td>NaN</td>\n",
       "      <td>NaN</td>\n",
       "      <td>NaN</td>\n",
       "      <td>NaN</td>\n",
       "      <td>NaN</td>\n",
       "      <td>21</td>\n",
       "      <td>Beauclair</td>\n",
       "    </tr>\n",
       "    <tr>\n",
       "      <th>1999999</th>\n",
       "      <td>1999964</td>\n",
       "      <td>NaN</td>\n",
       "      <td>NaN</td>\n",
       "      <td>NaN</td>\n",
       "      <td>NaN</td>\n",
       "      <td>NaN</td>\n",
       "      <td>NaN</td>\n",
       "      <td>NaN</td>\n",
       "      <td>NaN</td>\n",
       "      <td>NaN</td>\n",
       "      <td>...</td>\n",
       "      <td>NaN</td>\n",
       "      <td>NaN</td>\n",
       "      <td>NaN</td>\n",
       "      <td>NaN</td>\n",
       "      <td>NaN</td>\n",
       "      <td>NaN</td>\n",
       "      <td>NaN</td>\n",
       "      <td>NaN</td>\n",
       "      <td>20</td>\n",
       "      <td>Novigrad</td>\n",
       "    </tr>\n",
       "  </tbody>\n",
       "</table>\n",
       "<p>2000000 rows × 43 columns</p>\n",
       "</div>"
      ],
      "text/plain": [
       "         customer_id  purchase_sum_sum__5d  purchase_sum_max__5d  \\\n",
       "0                  1            841.402345            841.402345   \n",
       "1                  2           2745.248532           2745.248532   \n",
       "2                  6            949.027995            949.027995   \n",
       "3                  9           2181.297251           2181.297251   \n",
       "4                 22           1131.647748           1131.647748   \n",
       "...              ...                   ...                   ...   \n",
       "1999995      1999882                   NaN                   NaN   \n",
       "1999996      1999893                   NaN                   NaN   \n",
       "1999997      1999904                   NaN                   NaN   \n",
       "1999998      1999948                   NaN                   NaN   \n",
       "1999999      1999964                   NaN                   NaN   \n",
       "\n",
       "         purchase_sum_min__5d  purchase_sum_mean__5d  discount_sum__5d  \\\n",
       "0                  841.402345             841.402345               0.0   \n",
       "1                 2745.248532            2745.248532               0.0   \n",
       "2                  949.027995             949.027995               0.0   \n",
       "3                 2181.297251            2181.297251               0.0   \n",
       "4                 1131.647748            1131.647748               0.0   \n",
       "...                       ...                    ...               ...   \n",
       "1999995                   NaN                    NaN               NaN   \n",
       "1999996                   NaN                    NaN               NaN   \n",
       "1999997                   NaN                    NaN               NaN   \n",
       "1999998                   NaN                    NaN               NaN   \n",
       "1999999                   NaN                    NaN               NaN   \n",
       "\n",
       "         date_min__5d  date_max__5d  date_count__5d  mean_time_interval__5d  \\\n",
       "0               245.0         245.0             1.0                     NaN   \n",
       "1               246.0         246.0             1.0                     NaN   \n",
       "2               245.0         245.0             1.0                     NaN   \n",
       "3               249.0         249.0             1.0                     NaN   \n",
       "4               248.0         248.0             1.0                     NaN   \n",
       "...               ...           ...             ...                     ...   \n",
       "1999995           NaN           NaN             NaN                     NaN   \n",
       "1999996           NaN           NaN             NaN                     NaN   \n",
       "1999997           NaN           NaN             NaN                     NaN   \n",
       "1999998           NaN           NaN             NaN                     NaN   \n",
       "1999999           NaN           NaN             NaN                     NaN   \n",
       "\n",
       "         ...  purchase_sum_min__100d  purchase_sum_mean__100d  \\\n",
       "0        ...              676.339522               942.989648   \n",
       "1        ...             1940.561015              2706.896078   \n",
       "2        ...              478.944819               919.874613   \n",
       "3        ...             1697.679759              2023.712759   \n",
       "4        ...              236.225561               962.099677   \n",
       "...      ...                     ...                      ...   \n",
       "1999995  ...                     NaN                      NaN   \n",
       "1999996  ...                     NaN                      NaN   \n",
       "1999997  ...                     NaN                      NaN   \n",
       "1999998  ...                     NaN                      NaN   \n",
       "1999999  ...                     NaN                      NaN   \n",
       "\n",
       "         discount_sum__100d  date_min__100d  date_max__100d  date_count__100d  \\\n",
       "0                       0.0           157.0           245.0               5.0   \n",
       "1                       0.0           172.0           246.0               7.0   \n",
       "2                       0.0           158.0           245.0               8.0   \n",
       "3                       0.0           193.0           249.0               3.0   \n",
       "4                       0.0           150.0           248.0              13.0   \n",
       "...                     ...             ...             ...               ...   \n",
       "1999995                 NaN             NaN             NaN               NaN   \n",
       "1999996                 NaN             NaN             NaN               NaN   \n",
       "1999997                 NaN             NaN             NaN               NaN   \n",
       "1999998                 NaN             NaN             NaN               NaN   \n",
       "1999999                 NaN             NaN             NaN               NaN   \n",
       "\n",
       "         mean_time_interval__100d  time_since_last__100d  age      location  \n",
       "0                       22.000000                    5.0   53  Hindarsfjall  \n",
       "1                       12.333333                    4.0   41  Hindarsfjall  \n",
       "2                       12.428571                    5.0   57  Hindarsfjall  \n",
       "3                       28.000000                    1.0   29      Novigrad  \n",
       "4                        8.166667                    2.0   36  Hindarsfjall  \n",
       "...                           ...                    ...  ...           ...  \n",
       "1999995                       NaN                    NaN   58   Kaer_Trolde  \n",
       "1999996                       NaN                    NaN   69   Kaer_Trolde  \n",
       "1999997                       NaN                    NaN   42      Oxenfurt  \n",
       "1999998                       NaN                    NaN   21     Beauclair  \n",
       "1999999                       NaN                    NaN   20      Novigrad  \n",
       "\n",
       "[2000000 rows x 43 columns]"
      ]
     },
     "execution_count": 31,
     "metadata": {},
     "output_type": "execute_result"
    }
   ],
   "source": [
    "data_serve"
   ]
  },
  {
   "cell_type": "markdown",
   "metadata": {},
   "source": [
    "## Main"
   ]
  },
  {
   "cell_type": "markdown",
   "metadata": {},
   "source": [
    "### EDA"
   ]
  },
  {
   "cell_type": "code",
   "execution_count": 32,
   "metadata": {
    "ExecuteTime": {
     "end_time": "2022-07-18T18:34:13.886951Z",
     "start_time": "2022-07-18T18:34:11.652953Z"
    }
   },
   "outputs": [
    {
     "data": {
      "text/html": [
       "<div>\n",
       "<style scoped>\n",
       "    .dataframe tbody tr th:only-of-type {\n",
       "        vertical-align: middle;\n",
       "    }\n",
       "\n",
       "    .dataframe tbody tr th {\n",
       "        vertical-align: top;\n",
       "    }\n",
       "\n",
       "    .dataframe thead th {\n",
       "        text-align: right;\n",
       "    }\n",
       "</style>\n",
       "<table border=\"1\" class=\"dataframe\">\n",
       "  <thead>\n",
       "    <tr style=\"text-align: right;\">\n",
       "      <th></th>\n",
       "      <th>target_profit</th>\n",
       "      <th>target__purchase_sum_sum__30d</th>\n",
       "      <th>target__discount_sum__30d</th>\n",
       "      <th>customer_id</th>\n",
       "    </tr>\n",
       "    <tr>\n",
       "      <th>target_group_flag</th>\n",
       "      <th></th>\n",
       "      <th></th>\n",
       "      <th></th>\n",
       "      <th></th>\n",
       "    </tr>\n",
       "  </thead>\n",
       "  <tbody>\n",
       "    <tr>\n",
       "      <th>0.0</th>\n",
       "      <td>877.42898</td>\n",
       "      <td>3085.956567</td>\n",
       "      <td>0.000000</td>\n",
       "      <td>750708</td>\n",
       "    </tr>\n",
       "    <tr>\n",
       "      <th>1.0</th>\n",
       "      <td>874.89113</td>\n",
       "      <td>3084.030186</td>\n",
       "      <td>21.925679</td>\n",
       "      <td>249292</td>\n",
       "    </tr>\n",
       "  </tbody>\n",
       "</table>\n",
       "</div>"
      ],
      "text/plain": [
       "                   target_profit  target__purchase_sum_sum__30d  \\\n",
       "target_group_flag                                                 \n",
       "0.0                    877.42898                    3085.956567   \n",
       "1.0                    874.89113                    3084.030186   \n",
       "\n",
       "                   target__discount_sum__30d  customer_id  \n",
       "target_group_flag                                          \n",
       "0.0                                 0.000000       750708  \n",
       "1.0                                21.925679       249292  "
      ]
     },
     "execution_count": 32,
     "metadata": {},
     "output_type": "execute_result"
    }
   ],
   "source": [
    "data_train.loc[fit_index].groupby(by=['target_group_flag']).agg({\n",
    "    'target_profit': 'mean',\n",
    "    'target__purchase_sum_sum__30d': 'mean',\n",
    "    'target__discount_sum__30d': 'mean',\n",
    "    'customer_id': 'count',\n",
    "})"
   ]
  },
  {
   "cell_type": "code",
   "execution_count": 33,
   "metadata": {
    "ExecuteTime": {
     "end_time": "2022-07-18T18:34:18.063127Z",
     "start_time": "2022-07-18T18:34:17.072956Z"
    }
   },
   "outputs": [
    {
     "data": {
      "text/html": [
       "<div>\n",
       "<style scoped>\n",
       "    .dataframe tbody tr th:only-of-type {\n",
       "        vertical-align: middle;\n",
       "    }\n",
       "\n",
       "    .dataframe tbody tr th {\n",
       "        vertical-align: top;\n",
       "    }\n",
       "\n",
       "    .dataframe thead th {\n",
       "        text-align: right;\n",
       "    }\n",
       "</style>\n",
       "<table border=\"1\" class=\"dataframe\">\n",
       "  <thead>\n",
       "    <tr style=\"text-align: right;\">\n",
       "      <th></th>\n",
       "      <th>missing</th>\n",
       "      <th>total</th>\n",
       "      <th>percent</th>\n",
       "    </tr>\n",
       "  </thead>\n",
       "  <tbody>\n",
       "    <tr>\n",
       "      <th>mean_time_interval__5d</th>\n",
       "      <td>1970933</td>\n",
       "      <td>2000000</td>\n",
       "      <td>98.54665</td>\n",
       "    </tr>\n",
       "    <tr>\n",
       "      <th>target__mean_time_interval__7d</th>\n",
       "      <td>1922763</td>\n",
       "      <td>2000000</td>\n",
       "      <td>96.13815</td>\n",
       "    </tr>\n",
       "    <tr>\n",
       "      <th>n_offer_days</th>\n",
       "      <td>1500000</td>\n",
       "      <td>2000000</td>\n",
       "      <td>75.00000</td>\n",
       "    </tr>\n",
       "    <tr>\n",
       "      <th>campaign_date</th>\n",
       "      <td>1500000</td>\n",
       "      <td>2000000</td>\n",
       "      <td>75.00000</td>\n",
       "    </tr>\n",
       "    <tr>\n",
       "      <th>mean_time_interval__15d</th>\n",
       "      <td>1499398</td>\n",
       "      <td>2000000</td>\n",
       "      <td>74.96990</td>\n",
       "    </tr>\n",
       "    <tr>\n",
       "      <th>...</th>\n",
       "      <td>...</td>\n",
       "      <td>...</td>\n",
       "      <td>...</td>\n",
       "    </tr>\n",
       "    <tr>\n",
       "      <th>target_group_flag</th>\n",
       "      <td>0</td>\n",
       "      <td>2000000</td>\n",
       "      <td>0.00000</td>\n",
       "    </tr>\n",
       "    <tr>\n",
       "      <th>customer_id</th>\n",
       "      <td>0</td>\n",
       "      <td>2000000</td>\n",
       "      <td>0.00000</td>\n",
       "    </tr>\n",
       "    <tr>\n",
       "      <th>location</th>\n",
       "      <td>0</td>\n",
       "      <td>2000000</td>\n",
       "      <td>0.00000</td>\n",
       "    </tr>\n",
       "    <tr>\n",
       "      <th>age</th>\n",
       "      <td>0</td>\n",
       "      <td>2000000</td>\n",
       "      <td>0.00000</td>\n",
       "    </tr>\n",
       "    <tr>\n",
       "      <th>target_profit</th>\n",
       "      <td>0</td>\n",
       "      <td>2000000</td>\n",
       "      <td>0.00000</td>\n",
       "    </tr>\n",
       "  </tbody>\n",
       "</table>\n",
       "<p>67 rows × 3 columns</p>\n",
       "</div>"
      ],
      "text/plain": [
       "                                missing    total   percent\n",
       "mean_time_interval__5d          1970933  2000000  98.54665\n",
       "target__mean_time_interval__7d  1922763  2000000  96.13815\n",
       "n_offer_days                    1500000  2000000  75.00000\n",
       "campaign_date                   1500000  2000000  75.00000\n",
       "mean_time_interval__15d         1499398  2000000  74.96990\n",
       "...                                 ...      ...       ...\n",
       "target_group_flag                     0  2000000   0.00000\n",
       "customer_id                           0  2000000   0.00000\n",
       "location                              0  2000000   0.00000\n",
       "age                                   0  2000000   0.00000\n",
       "target_profit                         0  2000000   0.00000\n",
       "\n",
       "[67 rows x 3 columns]"
      ]
     },
     "execution_count": 33,
     "metadata": {},
     "output_type": "execute_result"
    }
   ],
   "source": [
    "data_train.stb.missing()"
   ]
  },
  {
   "cell_type": "code",
   "execution_count": null,
   "metadata": {},
   "outputs": [],
   "source": [
    "data_train"
   ]
  },
  {
   "cell_type": "markdown",
   "metadata": {},
   "source": [
    "### model"
   ]
  },
  {
   "cell_type": "code",
   "execution_count": 38,
   "metadata": {
    "ExecuteTime": {
     "end_time": "2022-07-17T12:19:37.098510Z",
     "start_time": "2022-07-17T12:19:37.094511Z"
    }
   },
   "outputs": [],
   "source": [
    "col_target = 'target_profit'\n",
    "col_treatment = 'target_group_flag'"
   ]
  },
  {
   "cell_type": "code",
   "execution_count": 39,
   "metadata": {
    "ExecuteTime": {
     "end_time": "2022-07-17T12:19:38.663513Z",
     "start_time": "2022-07-17T12:19:38.660509Z"
    }
   },
   "outputs": [],
   "source": [
    "cols_features = cols_features_n1"
   ]
  },
  {
   "cell_type": "code",
   "execution_count": 40,
   "metadata": {
    "ExecuteTime": {
     "end_time": "2022-07-17T12:19:40.626512Z",
     "start_time": "2022-07-17T12:19:40.618510Z"
    }
   },
   "outputs": [],
   "source": [
    "model_n1 = rlearner.BaseRRegressor(\n",
    "    learner=lgb.LGBMRegressor(),\n",
    "    control_name=0,\n",
    "    n_fold=4,\n",
    "    random_state=165\n",
    ")"
   ]
  },
  {
   "cell_type": "code",
   "execution_count": 41,
   "metadata": {
    "ExecuteTime": {
     "end_time": "2022-07-17T12:19:59.139942Z",
     "start_time": "2022-07-17T12:19:59.134943Z"
    }
   },
   "outputs": [
    {
     "data": {
      "text/plain": [
       "1000000"
      ]
     },
     "execution_count": 41,
     "metadata": {},
     "output_type": "execute_result"
    }
   ],
   "source": [
    "len(fit_index)"
   ]
  },
  {
   "cell_type": "code",
   "execution_count": 42,
   "metadata": {
    "ExecuteTime": {
     "end_time": "2022-07-17T12:20:35.504082Z",
     "start_time": "2022-07-17T12:20:00.925976Z"
    }
   },
   "outputs": [],
   "source": [
    "_p_score_const = data_train.loc[fit_index, col_treatment].value_counts(normalize=True).loc[1]\n",
    "_p_scores = pd.Series(data=_p_score_const, index=fit_index)\n",
    "model_n1.fit(\n",
    "    X=data_train.iloc[fit_index].loc[:,cols_features].fillna(0).values,\n",
    "    treatment=data_train.iloc[fit_index].loc[:,col_treatment].values,\n",
    "    y=data_train.iloc[fit_index].loc[:,col_target].values,\n",
    "    p=_p_scores\n",
    ")"
   ]
  },
  {
   "cell_type": "markdown",
   "metadata": {},
   "source": [
    "#### evaluate model"
   ]
  },
  {
   "cell_type": "code",
   "execution_count": 43,
   "metadata": {
    "ExecuteTime": {
     "end_time": "2022-07-17T12:20:41.037377Z",
     "start_time": "2022-07-17T12:20:37.564298Z"
    }
   },
   "outputs": [],
   "source": [
    "_eval_data = data_train.iloc[val_index].loc[:, cols_features + [col_treatment, col_target]]\n",
    "_eval_data['score'] = model_n1.predict(_eval_data[cols_features])\n",
    "_eval_data = _eval_data[['score', col_treatment, col_target]]"
   ]
  },
  {
   "cell_type": "code",
   "execution_count": 44,
   "metadata": {
    "ExecuteTime": {
     "end_time": "2022-07-17T12:20:43.272379Z",
     "start_time": "2022-07-17T12:20:43.038375Z"
    }
   },
   "outputs": [
    {
     "data": {
      "image/png": "[encoded data removed]",
      "text/plain": [
       "<Figure size 720x432 with 1 Axes>"
      ]
     },
     "metadata": {},
     "output_type": "display_data"
    }
   ],
   "source": [
    "plt.figure(figsize=(10, 6))\n",
    "plt.hist(_eval_data['score'], bins=20)\n",
    "plt.show()"
   ]
  },
  {
   "cell_type": "code",
   "execution_count": 45,
   "metadata": {
    "ExecuteTime": {
     "end_time": "2022-07-17T12:20:45.302423Z",
     "start_time": "2022-07-17T12:20:45.022375Z"
    }
   },
   "outputs": [
    {
     "data": {
      "image/png": "[encoded data removed]",
      "text/plain": [
       "<Figure size 720x432 with 1 Axes>"
      ]
     },
     "metadata": {},
     "output_type": "display_data"
    }
   ],
   "source": [
    "plt.figure(figsize=(10, 6))\n",
    "plt.hist(_eval_data['score'], bins=100, range=(-50, 50))\n",
    "plt.show()"
   ]
  },
  {
   "cell_type": "code",
   "execution_count": 46,
   "metadata": {
    "ExecuteTime": {
     "end_time": "2022-07-17T12:20:47.059475Z",
     "start_time": "2022-07-17T12:20:47.039494Z"
    }
   },
   "outputs": [
    {
     "data": {
      "text/plain": [
       "-31.719384391051946"
      ]
     },
     "execution_count": 46,
     "metadata": {},
     "output_type": "execute_result"
    }
   ],
   "source": [
    "np.percentile(_eval_data['score'], 5)"
   ]
  },
  {
   "cell_type": "code",
   "execution_count": 47,
   "metadata": {
    "ExecuteTime": {
     "end_time": "2022-07-17T12:20:48.780476Z",
     "start_time": "2022-07-17T12:20:48.761502Z"
    }
   },
   "outputs": [
    {
     "data": {
      "text/plain": [
       "23.170024412933266"
      ]
     },
     "execution_count": 47,
     "metadata": {},
     "output_type": "execute_result"
    }
   ],
   "source": [
    "np.percentile(_eval_data['score'], 95)"
   ]
  },
  {
   "cell_type": "code",
   "execution_count": 48,
   "metadata": {
    "ExecuteTime": {
     "end_time": "2022-07-17T12:20:50.480509Z",
     "start_time": "2022-07-17T12:20:50.435475Z"
    }
   },
   "outputs": [
    {
     "data": {
      "text/plain": [
       "count    1000000.000000\n",
       "mean          -1.981109\n",
       "std           31.332788\n",
       "min         -802.790302\n",
       "25%          -16.126859\n",
       "50%           -0.692813\n",
       "75%           12.265208\n",
       "max         1398.041739\n",
       "Name: score, dtype: float64"
      ]
     },
     "execution_count": 48,
     "metadata": {},
     "output_type": "execute_result"
    }
   ],
   "source": [
    "_eval_data['score'].describe()"
   ]
  },
  {
   "cell_type": "code",
   "execution_count": 49,
   "metadata": {
    "ExecuteTime": {
     "end_time": "2022-07-17T12:20:59.584439Z",
     "start_time": "2022-07-17T12:20:52.175441Z"
    }
   },
   "outputs": [
    {
     "data": {
      "image/png": "[encoded data removed]",
      "text/plain": [
       "<Figure size 576x576 with 1 Axes>"
      ]
     },
     "metadata": {},
     "output_type": "display_data"
    }
   ],
   "source": [
    "cmetrics.plot_gain(\n",
    "    _eval_data,\n",
    "    treatment_col=col_treatment,\n",
    "    outcome_col=col_target,\n",
    ")"
   ]
  },
  {
   "cell_type": "markdown",
   "metadata": {},
   "source": [
    "### decisions"
   ]
  },
  {
   "cell_type": "code",
   "execution_count": 50,
   "metadata": {
    "ExecuteTime": {
     "end_time": "2022-07-17T12:21:05.343341Z",
     "start_time": "2022-07-17T12:21:03.076340Z"
    }
   },
   "outputs": [],
   "source": [
    "data_serve['model_n1_pred'] = model_n1.predict(data_serve[cols_features_n1])"
   ]
  },
  {
   "cell_type": "code",
   "execution_count": 51,
   "metadata": {
    "ExecuteTime": {
     "end_time": "2022-07-17T12:21:07.298765Z",
     "start_time": "2022-07-17T12:21:07.220763Z"
    }
   },
   "outputs": [
    {
     "data": {
      "text/plain": [
       "count    2.000000e+06\n",
       "mean    -1.997854e+00\n",
       "std      3.133558e+01\n",
       "min     -9.362994e+02\n",
       "25%     -1.612686e+01\n",
       "50%     -7.660856e-01\n",
       "75%      1.226521e+01\n",
       "max      1.423888e+03\n",
       "Name: model_n1_pred, dtype: float64"
      ]
     },
     "execution_count": 51,
     "metadata": {},
     "output_type": "execute_result"
    }
   ],
   "source": [
    "data_serve['model_n1_pred'].describe()"
   ]
  },
  {
   "cell_type": "code",
   "execution_count": 52,
   "metadata": {
    "ExecuteTime": {
     "end_time": "2022-07-17T12:21:09.313763Z",
     "start_time": "2022-07-17T12:21:09.026792Z"
    }
   },
   "outputs": [
    {
     "data": {
      "image/png": "[encoded data removed]",
      "text/plain": [
       "<Figure size 720x432 with 1 Axes>"
      ]
     },
     "metadata": {},
     "output_type": "display_data"
    }
   ],
   "source": [
    "plt.figure(figsize=(10, 6))\n",
    "plt.hist(data_serve['model_n1_pred'], bins=100, range=(-50, 50))\n",
    "plt.show()"
   ]
  },
  {
   "cell_type": "code",
   "execution_count": 53,
   "metadata": {
    "ExecuteTime": {
     "end_time": "2022-07-17T12:21:11.101767Z",
     "start_time": "2022-07-17T12:21:11.088764Z"
    }
   },
   "outputs": [
    {
     "data": {
      "text/plain": [
       "0.4151065"
      ]
     },
     "execution_count": 53,
     "metadata": {},
     "output_type": "execute_result"
    }
   ],
   "source": [
    "(data_serve['model_n1_pred'] > 5.0).mean()"
   ]
  },
  {
   "cell_type": "code",
   "execution_count": 55,
   "metadata": {
    "ExecuteTime": {
     "end_time": "2022-07-17T12:21:52.353230Z",
     "start_time": "2022-07-17T12:21:51.398736Z"
    }
   },
   "outputs": [],
   "source": [
    "data_serve[data_serve['model_n1_pred'] > 5.1]['customer_id'].to_csv('submission.csv', index=None)"
   ]
  },
  {
   "cell_type": "code",
   "execution_count": null,
   "metadata": {},
   "outputs": [],
   "source": []
  },
  {
   "cell_type": "code",
   "execution_count": 56,
   "metadata": {
    "ExecuteTime": {
     "end_time": "2022-07-17T12:22:57.234482Z",
     "start_time": "2022-07-17T12:22:57.041138Z"
    }
   },
   "outputs": [],
   "source": [
    "sample = data_serve[data_serve['model_n1_pred'] > 5.0]"
   ]
  },
  {
   "cell_type": "code",
   "execution_count": 4,
   "metadata": {
    "ExecuteTime": {
     "end_time": "2023-01-16T11:18:59.350777Z",
     "start_time": "2023-01-16T11:18:59.347846Z"
    }
   },
   "outputs": [],
   "source": [
    "sample['uplift'] = np.random.choice([0, 1], sample.shape[0])"
   ]
  },
  {
   "cell_type": "code",
   "execution_count": 58,
   "metadata": {
    "ExecuteTime": {
     "end_time": "2022-07-17T12:23:01.054390Z",
     "start_time": "2022-07-17T12:23:01.041388Z"
    }
   },
   "outputs": [
    {
     "data": {
      "text/plain": [
       "1    415778\n",
       "0    414435\n",
       "Name: uplift, dtype: int64"
      ]
     },
     "execution_count": 58,
     "metadata": {},
     "output_type": "execute_result"
    }
   ],
   "source": [
    "sample['uplift'].value_counts()"
   ]
  },
  {
   "cell_type": "code",
   "execution_count": 59,
   "metadata": {
    "ExecuteTime": {
     "end_time": "2022-07-17T12:23:03.003392Z",
     "start_time": "2022-07-17T12:23:02.998392Z"
    }
   },
   "outputs": [],
   "source": [
    "mask = (sample['uplift'] == 1)"
   ]
  },
  {
   "cell_type": "code",
   "execution_count": 61,
   "metadata": {
    "ExecuteTime": {
     "end_time": "2022-07-17T12:23:17.469975Z",
     "start_time": "2022-07-17T12:23:17.464972Z"
    }
   },
   "outputs": [
    {
     "data": {
      "text/plain": [
       "Index(['customer_id', 'purchase_sum_sum__5d', 'purchase_sum_max__5d',\n",
       "       'purchase_sum_min__5d', 'purchase_sum_mean__5d', 'discount_sum__5d',\n",
       "       'date_min__5d', 'date_max__5d', 'date_count__5d',\n",
       "       'mean_time_interval__5d', 'time_since_last__5d',\n",
       "       'purchase_sum_sum__15d', 'purchase_sum_max__15d',\n",
       "       'purchase_sum_min__15d', 'purchase_sum_mean__15d', 'discount_sum__15d',\n",
       "       'date_min__15d', 'date_max__15d', 'date_count__15d',\n",
       "       'mean_time_interval__15d', 'time_since_last__15d',\n",
       "       'purchase_sum_sum__50d', 'purchase_sum_max__50d',\n",
       "       'purchase_sum_min__50d', 'purchase_sum_mean__50d', 'discount_sum__50d',\n",
       "       'date_min__50d', 'date_max__50d', 'date_count__50d',\n",
       "       'mean_time_interval__50d', 'time_since_last__50d',\n",
       "       'purchase_sum_sum__100d', 'purchase_sum_max__100d',\n",
       "       'purchase_sum_min__100d', 'purchase_sum_mean__100d',\n",
       "       'discount_sum__100d', 'date_min__100d', 'date_max__100d',\n",
       "       'date_count__100d', 'mean_time_interval__100d', 'time_since_last__100d',\n",
       "       'age', 'location', 'model_n1_pred', 'uplift'],\n",
       "      dtype='object')"
      ]
     },
     "execution_count": 61,
     "metadata": {},
     "output_type": "execute_result"
    }
   ],
   "source": [
    "sample.columns"
   ]
  },
  {
   "cell_type": "code",
   "execution_count": 63,
   "metadata": {
    "ExecuteTime": {
     "end_time": "2022-07-17T12:24:41.575095Z",
     "start_time": "2022-07-17T12:24:40.364237Z"
    }
   },
   "outputs": [
    {
     "data": {
      "text/plain": [
       "-228257.0462614148"
      ]
     },
     "execution_count": 63,
     "metadata": {},
     "output_type": "execute_result"
    }
   ],
   "source": [
    "profit = (\n",
    "            (\n",
    "            sample[mask]['purchase_sum_sum__15d'].sum()*MARGIN_RATE / len(sample[mask]) -\n",
    "            sample[~mask]['purchase_sum_sum__15d'].sum()*MARGIN_RATE/ len(sample[~mask]) \n",
    "            ) * len(sample[mask])\n",
    "            - sample['discount_sum__15d'].sum() - len(sample[mask]) * 1\n",
    "         ) * (     \n",
    "            (len(sample[mask]) + len(sample[~mask])) / len(sample[mask])\n",
    "              )\n",
    "profit"
   ]
  },
  {
   "cell_type": "code",
   "execution_count": null,
   "metadata": {},
   "outputs": [],
   "source": [
    "data_serve[d['model_n1_pred'] > 5.1]['target_profit'].sum()"
   ]
  }
 ],
 "metadata": {
  "kernelspec": {
   "display_name": "Python 3",
   "language": "python",
   "name": "python3"
  },
  "language_info": {
   "codemirror_mode": {
    "name": "ipython",
    "version": 3
   },
   "file_extension": ".py",
   "mimetype": "text/x-python",
   "name": "python",
   "nbconvert_exporter": "python",
   "pygments_lexer": "ipython3",
   "version": "3.8.8"
  },
  "toc": {
   "base_numbering": 1,
   "nav_menu": {},
   "number_sections": true,
   "sideBar": true,
   "skip_h1_title": false,
   "title_cell": "Table of Contents",
   "title_sidebar": "Contents",
   "toc_cell": false,
   "toc_position": {},
   "toc_section_display": true,
   "toc_window_display": true
  },
  "varInspector": {
   "cols": {
    "lenName": 16,
    "lenType": 16,
    "lenVar": 40
   },
   "kernels_config": {
    "python": {
     "delete_cmd_postfix": "",
     "delete_cmd_prefix": "del ",
     "library": "var_list.py",
     "varRefreshCmd": "print(var_dic_list())"
    },
    "r": {
     "delete_cmd_postfix": ") ",
     "delete_cmd_prefix": "rm(",
     "library": "var_list.r",
     "varRefreshCmd": "cat(var_dic_list()) "
    }
   },
   "types_to_exclude": [
    "module",
    "function",
    "builtin_function_or_method",
    "instance",
    "_Feature"
   ],
   "window_display": false
  }
 },
 "nbformat": 4,
 "nbformat_minor": 4
}
